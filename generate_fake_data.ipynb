{
 "cells": [
  {
   "cell_type": "code",
   "execution_count": 1,
   "metadata": {},
   "outputs": [],
   "source": [
    "import faker\n",
    "import pyodbc\n",
    "import datetime\n",
    "import gc\n",
    "import random\n",
    "\n",
    "SQL_DRIVER = r\"DRIVER={{Microsoft Access Driver (*.mdb, *.accdb)}};DBQ={path};\"\n",
    "DB_FILE=\"C:/Users/Student/Documents/DBMS FINAL PROJECT.accdb\""
   ]
  },
  {
   "cell_type": "code",
   "execution_count": 52,
   "metadata": {},
   "outputs": [
    {
     "name": "stdout",
     "output_type": "stream",
     "text": [
      "result: [(1, 1, 109), (2, 2, 108), (3, 2, 124), (4, 2, 117), (5, 2, 129)]\n"
     ]
    }
   ],
   "source": [
    "conn = SQL_DRIVER.format(path = DB_FILE)\n",
    "db = pyodbc.connect(conn, autocommit = False)\n",
    "\n",
    "test_query = \"\"\"\n",
    "    SELECT TOP 5 * FROM order_details;\n",
    "\"\"\"\n",
    "\n",
    "cursor = db.cursor()\n",
    "result = cursor.execute(test_query).fetchall()\n",
    "print(f\"result: {result}\")"
   ]
  },
  {
   "cell_type": "code",
   "execution_count": 53,
   "metadata": {},
   "outputs": [
    {
     "name": "stdout",
     "output_type": "stream",
     "text": [
      "{101: ('Hamburger', Decimal('12.9500')), 102: ('Cheeseburger', Decimal('13.9500')), 103: ('Hot Dog', Decimal('9.0000')), 104: ('Veggie Burger', Decimal('10.5000')), 105: ('Mac & Cheese', Decimal('7.0000')), 106: ('French Fries', Decimal('7.0000')), 107: ('Orange Chicken', Decimal('16.5000')), 108: ('Tofu Pad Thai', Decimal('14.5000')), 109: ('Korean Beef Bowl', Decimal('17.9500')), 110: ('Pork Ramen', Decimal('17.9500')), 111: ('California Roll', Decimal('11.9500')), 112: ('Salmon Roll', Decimal('14.9500')), 113: ('Edamame', Decimal('5.0000')), 114: ('Potstickers', Decimal('9.0000')), 115: ('Chicken Tacos', Decimal('11.9500')), 116: ('Steak Tacos', Decimal('13.9500')), 117: ('Chicken Burrito', Decimal('12.9500')), 118: ('Steak Burrito', Decimal('14.9500')), 119: ('Chicken Torta', Decimal('11.9500')), 120: ('Steak Torta', Decimal('13.9500')), 121: ('Cheese Quesadillas', Decimal('10.5000')), 122: ('Chips & Salsa', Decimal('7.0000')), 123: ('Chips & Guacamole', Decimal('9.0000')), 124: ('Spaghetti', Decimal('14.5000')), 125: ('Spaghetti & Meatballs', Decimal('17.9500')), 126: ('Fettuccine Alfredo', Decimal('14.5000')), 127: ('Meat Lasagna', Decimal('17.9500')), 128: ('Cheese Lasagna', Decimal('15.5000')), 129: ('Mushroom Ravioli', Decimal('15.5000')), 130: ('Shrimp Scampi', Decimal('19.9500')), 131: ('Chicken Parmesan', Decimal('17.9500')), 132: ('Eggplant Parmesan', Decimal('16.9500'))}\n"
     ]
    }
   ],
   "source": [
    "get_menu_items_query = \"\"\"\n",
    "    SELECT menu_item_id, item_name, price FROM menu_items;\n",
    "\"\"\"\n",
    "\n",
    "menu_items = {item[0] : (item[1], item[2]) for item in cursor.execute(get_menu_items_query).fetchall()}\n",
    "print(menu_items)"
   ]
  },
  {
   "cell_type": "code",
   "execution_count": 54,
   "metadata": {},
   "outputs": [
    {
     "name": "stdout",
     "output_type": "stream",
     "text": [
      "last order details id: 12234\n",
      "last order id: 5370\n"
     ]
    }
   ],
   "source": [
    "get_last_order_details_id_query = \"\"\"\n",
    "    SELECT TOP 1 order_details_id, order_id FROM order_details ORDER BY order_details_id DESC;\n",
    "\"\"\"\n",
    "\n",
    "last_order_details_id, last_order_id = cursor.execute(get_last_order_details_id_query).fetchone()\n",
    "print(f\"last order details id: {last_order_details_id}\")\n",
    "print(f\"last order id: {last_order_id}\")"
   ]
  },
  {
   "cell_type": "code",
   "execution_count": 59,
   "metadata": {},
   "outputs": [
    {
     "name": "stdout",
     "output_type": "stream",
     "text": [
      "(datetime.datetime(2023, 1, 1, 0, 0), datetime.datetime(1899, 12, 30, 17, 14, 36))\n"
     ]
    }
   ],
   "source": [
    "print(cursor.execute(\"\"\" SELECT order_date, order_time FROM orders WHERE order_id = 40\"\"\").fetchone())"
   ]
  },
  {
   "cell_type": "code",
   "execution_count": null,
   "metadata": {},
   "outputs": [
    {
     "name": "stdout",
     "output_type": "stream",
     "text": [
      "(datetime.datetime(2023, 4, 1, 0, 4, 28), '14:26:44 PM')\n"
     ]
    }
   ],
   "source": [
    "fkr = faker.Faker()\n",
    "menu_item_ids = set(key for key in menu_items.keys())\n",
    "\n",
    "orders = []\n",
    "for _ in range(100_000):  # Generate 100000 fake orders\n",
    "    order_date = fkr.date_time_between_dates(datetime.datetime(2023, 4, 1), datetime.datetime.now())\n",
    "    order_time = datetime.datetime.strptime(fkr.time(), \"%H:%M:%S\").strftime(\"%H:%M:%S %p\")\n",
    "    orders.append((order_date, order_time))\n",
    "\n",
    "orders.sort()\n",
    "print(orders[0])"
   ]
  },
  {
   "cell_type": "code",
   "execution_count": null,
   "metadata": {},
   "outputs": [],
   "source": [
    "# Insert 100000 rows into the table\n",
    "for order in orders:\n",
    "    cursor.execute(\"INSERT INTO orders (order_date, order_time) VALUES (?, ?)\", (order[0], order[1]))\n",
    "\n",
    "cursor.execute(\"SELECT TOP 100 * FROM orders ORDER BY order_id DESC\")  # Adjust the ORDER BY clause as needed\n",
    "inserted_rows = cursor.fetchall()\n",
    "\n",
    "    # Display the inserted rows\n",
    "print(\"Inserted rows before commit:\")\n",
    "for row in inserted_rows:\n",
    "    print(row)\n"
   ]
  },
  {
   "cell_type": "code",
   "execution_count": 90,
   "metadata": {},
   "outputs": [],
   "source": [
    "current_order_id = last_order_id + 1\n",
    "order_details = []\n",
    "current_order_details_id = last_order_details_id + 1\n",
    "for order in orders:\n",
    "    for _ in range(random.randint(1, 10)):\n",
    "        menu_item_id = fkr.random_int(min=101, max=132)\n",
    "        order_details.append((current_order_details_id, current_order_id, menu_item_id))\n",
    "        current_order_details_id += 1\n",
    "    current_order_id += 1\n"
   ]
  },
  {
   "cell_type": "code",
   "execution_count": null,
   "metadata": {},
   "outputs": [],
   "source": [
    "print(f\"order details count: {len(order_details)}\")\n",
    "for i in range(1000):\n",
    "    print(order_details[i])"
   ]
  },
  {
   "cell_type": "code",
   "execution_count": null,
   "metadata": {},
   "outputs": [
    {
     "name": "stdout",
     "output_type": "stream",
     "text": [
      "Inserted order rows before commit:\n",
      "(105370, datetime.datetime(2024, 11, 26, 18, 57, 23), datetime.datetime(1899, 12, 30, 7, 37, 13))\n",
      "(105369, datetime.datetime(2024, 11, 26, 18, 44, 48), datetime.datetime(1899, 12, 30, 20, 36, 7))\n",
      "(105368, datetime.datetime(2024, 11, 26, 18, 38, 34), datetime.datetime(1899, 12, 30, 14, 55, 38))\n",
      "(105367, datetime.datetime(2024, 11, 26, 18, 36, 28), datetime.datetime(1899, 12, 30, 2, 20, 44))\n",
      "(105366, datetime.datetime(2024, 11, 26, 18, 32, 29), datetime.datetime(1899, 12, 30, 4, 38, 29))\n",
      "(105365, datetime.datetime(2024, 11, 26, 18, 31, 28), datetime.datetime(1899, 12, 30, 0, 32, 50))\n",
      "(105364, datetime.datetime(2024, 11, 26, 18, 30, 45), datetime.datetime(1899, 12, 30, 8, 22, 20))\n",
      "(105363, datetime.datetime(2024, 11, 26, 18, 21, 1), datetime.datetime(1899, 12, 30, 15, 36, 53))\n",
      "(105362, datetime.datetime(2024, 11, 26, 18, 1, 19), datetime.datetime(1899, 12, 30, 18, 35, 25))\n",
      "(105361, datetime.datetime(2024, 11, 26, 17, 58, 32), datetime.datetime(1899, 12, 30, 16, 14, 25))\n",
      "(105360, datetime.datetime(2024, 11, 26, 17, 32, 42), datetime.datetime(1899, 12, 30, 17, 39, 30))\n",
      "(105359, datetime.datetime(2024, 11, 26, 17, 23, 38), datetime.datetime(1899, 12, 30, 16, 55, 45))\n",
      "(105358, datetime.datetime(2024, 11, 26, 17, 13, 42), datetime.datetime(1899, 12, 30, 23, 20, 29))\n",
      "(105357, datetime.datetime(2024, 11, 26, 17, 8, 32), datetime.datetime(1899, 12, 30, 20, 47, 10))\n",
      "(105356, datetime.datetime(2024, 11, 26, 16, 47, 13), datetime.datetime(1899, 12, 30, 8, 29, 19))\n",
      "(105355, datetime.datetime(2024, 11, 26, 16, 24, 48), datetime.datetime(1899, 12, 30, 12, 55, 53))\n",
      "(105354, datetime.datetime(2024, 11, 26, 16, 22, 30), datetime.datetime(1899, 12, 30, 8, 5, 59))\n",
      "(105353, datetime.datetime(2024, 11, 26, 16, 14, 14), datetime.datetime(1899, 12, 30, 17, 45, 50))\n",
      "(105352, datetime.datetime(2024, 11, 26, 15, 59, 50), datetime.datetime(1899, 12, 30, 12, 43, 15))\n",
      "(105351, datetime.datetime(2024, 11, 26, 15, 54, 46), datetime.datetime(1899, 12, 30, 17, 5, 12))\n",
      "(105350, datetime.datetime(2024, 11, 26, 15, 41, 55), datetime.datetime(1899, 12, 30, 11, 9, 20))\n",
      "(105349, datetime.datetime(2024, 11, 26, 15, 40, 40), datetime.datetime(1899, 12, 30, 8, 43, 47))\n",
      "(105348, datetime.datetime(2024, 11, 26, 15, 35, 14), datetime.datetime(1899, 12, 30, 23, 8, 18))\n",
      "(105347, datetime.datetime(2024, 11, 26, 15, 19, 55), datetime.datetime(1899, 12, 30, 9, 2, 21))\n",
      "(105346, datetime.datetime(2024, 11, 26, 14, 41, 16), datetime.datetime(1899, 12, 30, 23, 16, 30))\n",
      "(105345, datetime.datetime(2024, 11, 26, 14, 33, 46), datetime.datetime(1899, 12, 30, 6, 24, 58))\n",
      "(105344, datetime.datetime(2024, 11, 26, 14, 19, 32), datetime.datetime(1899, 12, 30, 8, 5, 50))\n",
      "(105343, datetime.datetime(2024, 11, 26, 14, 10, 54), datetime.datetime(1899, 12, 30, 1, 49, 37))\n",
      "(105342, datetime.datetime(2024, 11, 26, 14, 3, 6), datetime.datetime(1899, 12, 30, 3, 15, 9))\n",
      "(105341, datetime.datetime(2024, 11, 26, 13, 58, 49), datetime.datetime(1899, 12, 30, 15, 29, 55))\n",
      "(105340, datetime.datetime(2024, 11, 26, 13, 56, 22), datetime.datetime(1899, 12, 30, 7, 51, 54))\n",
      "(105339, datetime.datetime(2024, 11, 26, 13, 47, 20), datetime.datetime(1899, 12, 30, 13, 16, 34))\n",
      "(105338, datetime.datetime(2024, 11, 26, 13, 34, 33), datetime.datetime(1899, 12, 30, 9, 46, 7))\n",
      "(105337, datetime.datetime(2024, 11, 26, 13, 33, 59), datetime.datetime(1899, 12, 30, 2, 34, 12))\n",
      "(105336, datetime.datetime(2024, 11, 26, 13, 32, 2), datetime.datetime(1899, 12, 30, 18, 11, 19))\n",
      "(105335, datetime.datetime(2024, 11, 26, 13, 16, 41), datetime.datetime(1899, 12, 30, 9, 22, 41))\n",
      "(105334, datetime.datetime(2024, 11, 26, 13, 12, 23), datetime.datetime(1899, 12, 30, 19, 8, 3))\n",
      "(105333, datetime.datetime(2024, 11, 26, 12, 46, 14), datetime.datetime(1899, 12, 30, 12, 20, 33))\n",
      "(105332, datetime.datetime(2024, 11, 26, 12, 40, 12), datetime.datetime(1899, 12, 30, 14, 9, 1))\n",
      "(105331, datetime.datetime(2024, 11, 26, 12, 29, 55), datetime.datetime(1899, 12, 30, 14, 33, 45))\n",
      "(105330, datetime.datetime(2024, 11, 26, 12, 16, 8), datetime.datetime(1899, 12, 30, 22, 43, 34))\n",
      "(105329, datetime.datetime(2024, 11, 26, 11, 57, 24), datetime.datetime(1899, 12, 30, 10, 50, 7))\n",
      "(105328, datetime.datetime(2024, 11, 26, 11, 51, 43), datetime.datetime(1899, 12, 30, 9, 36, 3))\n",
      "(105327, datetime.datetime(2024, 11, 26, 11, 33, 32), datetime.datetime(1899, 12, 30, 1, 53, 6))\n",
      "(105326, datetime.datetime(2024, 11, 26, 11, 27, 3), datetime.datetime(1899, 12, 30, 22, 26, 15))\n",
      "(105325, datetime.datetime(2024, 11, 26, 11, 22, 35), datetime.datetime(1899, 12, 30, 5, 28, 13))\n",
      "(105324, datetime.datetime(2024, 11, 26, 11, 21, 2), datetime.datetime(1899, 12, 30, 1, 10, 11))\n",
      "(105323, datetime.datetime(2024, 11, 26, 11, 9, 58), datetime.datetime(1899, 12, 30, 4, 34, 22))\n",
      "(105322, datetime.datetime(2024, 11, 26, 11, 7, 8), datetime.datetime(1899, 12, 30, 21, 32, 49))\n",
      "(105321, datetime.datetime(2024, 11, 26, 11, 6, 51), datetime.datetime(1899, 12, 30, 1, 52, 26))\n",
      "(105320, datetime.datetime(2024, 11, 26, 11, 5, 22), datetime.datetime(1899, 12, 30, 10, 35, 5))\n",
      "(105319, datetime.datetime(2024, 11, 26, 10, 52, 4), datetime.datetime(1899, 12, 30, 4, 53, 7))\n",
      "(105318, datetime.datetime(2024, 11, 26, 10, 51, 30), datetime.datetime(1899, 12, 30, 8, 7, 36))\n",
      "(105317, datetime.datetime(2024, 11, 26, 10, 41, 31), datetime.datetime(1899, 12, 30, 22, 36, 23))\n",
      "(105316, datetime.datetime(2024, 11, 26, 10, 32, 58), datetime.datetime(1899, 12, 30, 0, 12, 4))\n",
      "(105315, datetime.datetime(2024, 11, 26, 10, 18, 29), datetime.datetime(1899, 12, 30, 17, 27, 38))\n",
      "(105314, datetime.datetime(2024, 11, 26, 10, 8, 15), datetime.datetime(1899, 12, 30, 2, 35, 38))\n",
      "(105313, datetime.datetime(2024, 11, 26, 10, 2, 47), datetime.datetime(1899, 12, 30, 20, 11, 41))\n",
      "(105312, datetime.datetime(2024, 11, 26, 9, 52, 37), datetime.datetime(1899, 12, 30, 19, 2, 3))\n",
      "(105311, datetime.datetime(2024, 11, 26, 9, 41, 8), datetime.datetime(1899, 12, 30, 23, 0, 8))\n",
      "(105310, datetime.datetime(2024, 11, 26, 9, 40, 34), datetime.datetime(1899, 12, 30, 14, 39, 22))\n",
      "(105309, datetime.datetime(2024, 11, 26, 9, 27, 2), datetime.datetime(1899, 12, 30, 11, 58, 16))\n",
      "(105308, datetime.datetime(2024, 11, 26, 9, 23, 59), datetime.datetime(1899, 12, 30, 21, 32, 46))\n",
      "(105307, datetime.datetime(2024, 11, 26, 9, 19, 18), datetime.datetime(1899, 12, 30, 19, 29, 23))\n",
      "(105306, datetime.datetime(2024, 11, 26, 8, 39, 42), datetime.datetime(1899, 12, 30, 20, 18, 48))\n",
      "(105305, datetime.datetime(2024, 11, 26, 8, 26, 43), datetime.datetime(1899, 12, 30, 8, 20, 41))\n",
      "(105304, datetime.datetime(2024, 11, 26, 8, 18, 12), datetime.datetime(1899, 12, 30, 7, 6, 53))\n",
      "(105303, datetime.datetime(2024, 11, 26, 8, 9), datetime.datetime(1899, 12, 30, 23, 1, 7))\n",
      "(105302, datetime.datetime(2024, 11, 26, 7, 59, 4), datetime.datetime(1899, 12, 30, 10, 32, 49))\n",
      "(105301, datetime.datetime(2024, 11, 26, 7, 42, 51), datetime.datetime(1899, 12, 30, 4, 50, 45))\n",
      "(105300, datetime.datetime(2024, 11, 26, 7, 37, 39), datetime.datetime(1899, 12, 30, 12, 29, 50))\n",
      "(105299, datetime.datetime(2024, 11, 26, 7, 37, 4), datetime.datetime(1899, 12, 30, 4, 33, 35))\n",
      "(105298, datetime.datetime(2024, 11, 26, 7, 2, 38), datetime.datetime(1899, 12, 30, 23, 45, 55))\n",
      "(105297, datetime.datetime(2024, 11, 26, 6, 52, 45), datetime.datetime(1899, 12, 30, 15, 31, 35))\n",
      "(105296, datetime.datetime(2024, 11, 26, 6, 47, 16), datetime.datetime(1899, 12, 30, 10, 27, 17))\n",
      "(105295, datetime.datetime(2024, 11, 26, 6, 43), datetime.datetime(1899, 12, 30, 9, 47, 6))\n",
      "(105294, datetime.datetime(2024, 11, 26, 6, 38, 10), datetime.datetime(1899, 12, 30, 17, 34, 4))\n",
      "(105293, datetime.datetime(2024, 11, 26, 6, 30, 53), datetime.datetime(1899, 12, 30, 18, 55, 48))\n",
      "(105292, datetime.datetime(2024, 11, 26, 6, 28, 15), datetime.datetime(1899, 12, 30, 6, 6, 50))\n",
      "(105291, datetime.datetime(2024, 11, 26, 6, 20, 24), datetime.datetime(1899, 12, 30, 5, 13, 8))\n",
      "(105290, datetime.datetime(2024, 11, 26, 6, 18, 22), datetime.datetime(1899, 12, 30, 14, 47, 29))\n",
      "(105289, datetime.datetime(2024, 11, 26, 5, 31, 29), datetime.datetime(1899, 12, 30, 3, 11, 43))\n",
      "(105288, datetime.datetime(2024, 11, 26, 5, 28, 36), datetime.datetime(1899, 12, 30, 9, 51, 38))\n",
      "(105287, datetime.datetime(2024, 11, 26, 5, 28, 16), datetime.datetime(1899, 12, 30, 7, 11, 52))\n",
      "(105286, datetime.datetime(2024, 11, 26, 5, 23, 5), datetime.datetime(1899, 12, 30, 7, 39, 21))\n",
      "(105285, datetime.datetime(2024, 11, 26, 5, 19, 5), datetime.datetime(1899, 12, 30, 1, 8, 56))\n",
      "(105284, datetime.datetime(2024, 11, 26, 5, 8, 37), datetime.datetime(1899, 12, 30, 3, 21, 56))\n",
      "(105283, datetime.datetime(2024, 11, 26, 4, 53, 32), datetime.datetime(1899, 12, 30, 13, 33, 11))\n",
      "(105282, datetime.datetime(2024, 11, 26, 4, 45, 2), datetime.datetime(1899, 12, 30, 17, 49, 2))\n",
      "(105281, datetime.datetime(2024, 11, 26, 4, 35, 33), datetime.datetime(1899, 12, 30, 1, 13, 56))\n",
      "(105280, datetime.datetime(2024, 11, 26, 4, 26, 22), datetime.datetime(1899, 12, 30, 14, 46, 45))\n",
      "(105279, datetime.datetime(2024, 11, 26, 4, 20, 44), datetime.datetime(1899, 12, 30, 15, 28, 20))\n",
      "(105278, datetime.datetime(2024, 11, 26, 4, 20, 37), datetime.datetime(1899, 12, 30, 2, 17, 19))\n",
      "(105277, datetime.datetime(2024, 11, 26, 4, 15, 42), datetime.datetime(1899, 12, 30, 16, 47, 26))\n",
      "(105276, datetime.datetime(2024, 11, 26, 3, 57, 15), datetime.datetime(1899, 12, 30, 16, 40, 24))\n",
      "(105275, datetime.datetime(2024, 11, 26, 3, 54, 34), datetime.datetime(1899, 12, 30, 6, 54, 38))\n",
      "(105274, datetime.datetime(2024, 11, 26, 3, 49, 58), datetime.datetime(1899, 12, 30, 7, 19, 31))\n",
      "(105273, datetime.datetime(2024, 11, 26, 3, 47, 18), datetime.datetime(1899, 12, 30, 18, 11, 2))\n",
      "(105272, datetime.datetime(2024, 11, 26, 3, 46, 24), datetime.datetime(1899, 12, 30, 7, 50, 50))\n",
      "(105271, datetime.datetime(2024, 11, 26, 3, 40, 23), datetime.datetime(1899, 12, 30, 6, 3, 15))\n",
      "Inserted order detail rows before commit:\n",
      "(562035, 105370, 117)\n",
      "(562034, 105370, 123)\n",
      "(562033, 105370, 117)\n",
      "(562032, 105370, 105)\n",
      "(562031, 105370, 117)\n",
      "(562030, 105369, 113)\n",
      "(562029, 105369, 110)\n",
      "(562028, 105369, 123)\n",
      "(562027, 105369, 116)\n",
      "(562026, 105369, 128)\n",
      "(562025, 105369, 124)\n",
      "(562024, 105369, 121)\n",
      "(562023, 105369, 113)\n",
      "(562022, 105368, 126)\n",
      "(562021, 105368, 121)\n",
      "(562020, 105368, 104)\n",
      "(562019, 105368, 103)\n",
      "(562018, 105367, 126)\n",
      "(562017, 105367, 109)\n",
      "(562016, 105367, 105)\n",
      "(562015, 105367, 120)\n",
      "(562014, 105366, 114)\n",
      "(562013, 105365, 105)\n",
      "(562012, 105365, 111)\n",
      "(562011, 105365, 117)\n",
      "(562010, 105365, 131)\n",
      "(562009, 105365, 126)\n",
      "(562008, 105364, 111)\n",
      "(562007, 105364, 105)\n",
      "(562006, 105364, 127)\n",
      "(562005, 105364, 125)\n",
      "(562004, 105364, 123)\n",
      "(562003, 105364, 102)\n",
      "(562002, 105364, 106)\n",
      "(562001, 105364, 131)\n",
      "(562000, 105363, 111)\n",
      "(561999, 105363, 121)\n",
      "(561998, 105363, 122)\n",
      "(561997, 105362, 120)\n",
      "(561996, 105362, 120)\n",
      "(561995, 105362, 115)\n",
      "(561994, 105361, 112)\n",
      "(561993, 105361, 102)\n",
      "(561992, 105361, 129)\n",
      "(561991, 105361, 113)\n",
      "(561990, 105361, 112)\n",
      "(561989, 105361, 116)\n",
      "(561988, 105361, 131)\n",
      "(561987, 105361, 106)\n",
      "(561986, 105360, 128)\n",
      "(561985, 105360, 132)\n",
      "(561984, 105360, 118)\n",
      "(561983, 105360, 129)\n",
      "(561982, 105360, 102)\n",
      "(561981, 105360, 112)\n",
      "(561980, 105360, 121)\n",
      "(561979, 105360, 117)\n",
      "(561978, 105359, 101)\n",
      "(561977, 105359, 106)\n",
      "(561976, 105359, 112)\n",
      "(561975, 105359, 117)\n",
      "(561974, 105359, 110)\n",
      "(561973, 105359, 118)\n",
      "(561972, 105359, 129)\n",
      "(561971, 105359, 123)\n",
      "(561970, 105358, 112)\n",
      "(561969, 105358, 103)\n",
      "(561968, 105357, 118)\n",
      "(561967, 105357, 126)\n",
      "(561966, 105357, 129)\n",
      "(561965, 105357, 104)\n",
      "(561964, 105357, 115)\n",
      "(561963, 105357, 123)\n",
      "(561962, 105357, 127)\n",
      "(561961, 105357, 132)\n",
      "(561960, 105357, 114)\n",
      "(561959, 105356, 104)\n",
      "(561958, 105356, 131)\n",
      "(561957, 105356, 125)\n",
      "(561956, 105356, 121)\n",
      "(561955, 105356, 129)\n",
      "(561954, 105356, 116)\n",
      "(561953, 105356, 113)\n",
      "(561952, 105355, 121)\n",
      "(561951, 105355, 128)\n",
      "(561950, 105355, 118)\n",
      "(561949, 105355, 124)\n",
      "(561948, 105355, 104)\n",
      "(561947, 105355, 132)\n",
      "(561946, 105355, 125)\n",
      "(561945, 105355, 127)\n",
      "(561944, 105355, 117)\n",
      "(561943, 105354, 131)\n",
      "(561942, 105354, 115)\n",
      "(561941, 105353, 116)\n",
      "(561940, 105353, 104)\n",
      "(561939, 105353, 124)\n",
      "(561938, 105353, 105)\n",
      "(561937, 105353, 103)\n",
      "(561936, 105353, 104)\n"
     ]
    }
   ],
   "source": [
    "for order_detail in order_details:\n",
    "    cursor.execute(\"INSERT INTO order_details (order_details_id, order_id, menu_item_id) VALUES (?, ?, ?)\", order_detail)"
   ]
  },
  {
   "cell_type": "code",
   "execution_count": 94,
   "metadata": {},
   "outputs": [
    {
     "name": "stdout",
     "output_type": "stream",
     "text": [
      "Inserted order rows before commit:\n",
      "(105370, datetime.datetime(2024, 11, 26, 18, 57, 23), datetime.datetime(1899, 12, 30, 7, 37, 13))\n",
      "(105369, datetime.datetime(2024, 11, 26, 18, 44, 48), datetime.datetime(1899, 12, 30, 20, 36, 7))\n",
      "(105368, datetime.datetime(2024, 11, 26, 18, 38, 34), datetime.datetime(1899, 12, 30, 14, 55, 38))\n",
      "(105367, datetime.datetime(2024, 11, 26, 18, 36, 28), datetime.datetime(1899, 12, 30, 2, 20, 44))\n",
      "(105366, datetime.datetime(2024, 11, 26, 18, 32, 29), datetime.datetime(1899, 12, 30, 4, 38, 29))\n",
      "(105365, datetime.datetime(2024, 11, 26, 18, 31, 28), datetime.datetime(1899, 12, 30, 0, 32, 50))\n",
      "(105364, datetime.datetime(2024, 11, 26, 18, 30, 45), datetime.datetime(1899, 12, 30, 8, 22, 20))\n",
      "(105363, datetime.datetime(2024, 11, 26, 18, 21, 1), datetime.datetime(1899, 12, 30, 15, 36, 53))\n",
      "(105362, datetime.datetime(2024, 11, 26, 18, 1, 19), datetime.datetime(1899, 12, 30, 18, 35, 25))\n",
      "(105361, datetime.datetime(2024, 11, 26, 17, 58, 32), datetime.datetime(1899, 12, 30, 16, 14, 25))\n",
      "Inserted order detail rows before commit:\n",
      "(562035, 105370, 117)\n",
      "(562034, 105370, 123)\n",
      "(562033, 105370, 117)\n",
      "(562032, 105370, 105)\n",
      "(562031, 105370, 117)\n",
      "(562030, 105369, 113)\n",
      "(562029, 105369, 110)\n",
      "(562028, 105369, 123)\n",
      "(562027, 105369, 116)\n",
      "(562026, 105369, 128)\n"
     ]
    }
   ],
   "source": [
    "cursor.execute(\"SELECT TOP 10 * FROM orders ORDER BY order_id DESC\")  # Adjust the ORDER BY clause as needed\n",
    "inserted_rows = cursor.fetchall()\n",
    "\n",
    "    # Display the inserted rows\n",
    "print(\"Inserted order rows before commit:\")\n",
    "for row in inserted_rows:\n",
    "    print(row)\n",
    "\n",
    "cursor.execute(\"SELECT TOP 10 * FROM order_details ORDER BY order_details_id DESC\")  # Adjust the ORDER BY clause as needed\n",
    "inserted_rows = cursor.fetchall()\n",
    "\n",
    "    # Display the inserted rows\n",
    "print(\"Inserted order detail rows before commit:\")\n",
    "for row in inserted_rows:\n",
    "    print(row)"
   ]
  },
  {
   "cell_type": "code",
   "execution_count": 95,
   "metadata": {},
   "outputs": [
    {
     "name": "stdout",
     "output_type": "stream",
     "text": [
      "Transaction committed successfully.\n"
     ]
    }
   ],
   "source": [
    "# Commit the transaction\n",
    "db.commit()\n",
    "print(\"Transaction committed successfully.\")"
   ]
  },
  {
   "cell_type": "code",
   "execution_count": 96,
   "metadata": {},
   "outputs": [],
   "source": [
    "cursor.close()\n",
    "db.close()"
   ]
  }
 ],
 "metadata": {
  "kernelspec": {
   "display_name": "multiaccess",
   "language": "python",
   "name": "python3"
  },
  "language_info": {
   "codemirror_mode": {
    "name": "ipython",
    "version": 3
   },
   "file_extension": ".py",
   "mimetype": "text/x-python",
   "name": "python",
   "nbconvert_exporter": "python",
   "pygments_lexer": "ipython3",
   "version": "3.12.7"
  }
 },
 "nbformat": 4,
 "nbformat_minor": 2
}
